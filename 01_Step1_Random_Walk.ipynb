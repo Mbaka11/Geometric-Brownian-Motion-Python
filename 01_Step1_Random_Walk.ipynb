{
 "cells": [
  {
   "cell_type": "markdown",
   "id": "a9cc47d2",
   "metadata": {},
   "source": [
    "\n",
    "# Step 1 — Random Walk Intuition (Brownian Motion warm‑up)\n",
    "\n",
    "**Goal:** build a clear mental model of Brownian motion starting from a simple 1‑D random walk: a point that moves right or left by one small step at each tick of time, at random.\n",
    "\n",
    "What you will do in this notebook:\n",
    "- Simulate a basic random walk (±1 steps).\n",
    "- See how the **spread grows with time**.\n",
    "- Look at the **distribution at a fixed time**.\n",
    "- Check that **successive steps are independent** (no memory).\n",
    "- Connect this to the idea of Brownian motion as a “limit” of finer and finer steps.\n"
   ]
  },
  {
   "cell_type": "code",
   "execution_count": null,
   "id": "930ace2d",
   "metadata": {},
   "outputs": [],
   "source": [
    "\n",
    "# Setup\n",
    "import numpy as np\n",
    "import matplotlib.pyplot as plt\n",
    "\n",
    "def random_walk(steps=1000, seed=None):\n",
    "    \"\"\"Return positions for a 1-D random walk with ±1 steps.\n",
    "    Shape: (steps+1,). Position starts at 0.\n",
    "    \"\"\"\n",
    "    rng = np.random.default_rng(seed)\n",
    "    # Draw ±1 with equal probability\n",
    "    step_vals = rng.choice([-1, 1], size=steps)\n",
    "    pos = np.empty(steps + 1, dtype=int)\n",
    "    pos[0] = 0\n",
    "    pos[1:] = np.cumsum(step_vals)\n",
    "    return pos\n"
   ]
  },
  {
   "cell_type": "markdown",
   "id": "cd91dd2f",
   "metadata": {},
   "source": [
    "\n",
    "## Experiment 1 — Visualize several random walks\n",
    "\n",
    "**What to expect:** zigzags with no obvious trend, centered roughly around 0. As time grows, paths spread out.\n"
   ]
  },
  {
   "cell_type": "code",
   "execution_count": null,
   "id": "7b1e08ee",
   "metadata": {},
   "outputs": [],
   "source": [
    "\n",
    "T = 1000  # number of time ticks\n",
    "paths = 6 # how many walks to visualize\n",
    "\n",
    "plt.figure()\n",
    "for k in range(paths):\n",
    "    pos = random_walk(T, seed=k)\n",
    "    plt.plot(range(T+1), pos)\n",
    "plt.xlabel(\"time tick\")\n",
    "plt.ylabel(\"position\")\n",
    "plt.title(\"Random walks (±1 steps)\")\n",
    "plt.show()\n"
   ]
  },
  {
   "cell_type": "markdown",
   "id": "33166047",
   "metadata": {},
   "source": [
    "\n",
    "## Experiment 2 — Distribution at a fixed time\n",
    "\n",
    "Pick a specific time (e.g., tick 500) and look at all the positions we get across many independent walks.\n",
    "\n",
    "**Key idea:** At time *t*, positions are typically near 0, and extreme values are rarer. As *t* increases, the spread grows.\n"
   ]
  },
  {
   "cell_type": "code",
   "execution_count": null,
   "id": "80c5880a",
   "metadata": {},
   "outputs": [],
   "source": [
    "\n",
    "T = 1000\n",
    "tick = 500\n",
    "num_paths = 10000\n",
    "\n",
    "# Collect positions at the chosen tick across many walks\n",
    "samples = np.empty(num_paths, dtype=int)\n",
    "for k in range(num_paths):\n",
    "    pos = random_walk(T, seed=k)\n",
    "    samples[k] = pos[tick]\n",
    "\n",
    "# Summary stats and histogram\n",
    "print(f\"Mean at tick {tick}: {samples.mean():.3f}\")\n",
    "print(f\"Variance at tick {tick}: {samples.var(ddof=1):.3f}\")\n",
    "\n",
    "plt.figure()\n",
    "plt.hist(samples, bins=51)\n",
    "plt.xlabel(f\"position at tick {tick}\")\n",
    "plt.ylabel(\"count\")\n",
    "plt.title(\"Distribution of positions at a fixed time\")\n",
    "plt.show()\n"
   ]
  },
  {
   "cell_type": "markdown",
   "id": "eb3e83d1",
   "metadata": {},
   "source": [
    "\n",
    "## Experiment 3 — How spread grows with time\n",
    "\n",
    "Compute the sample variance of positions across many walks at different times.  \n",
    "**Claim:** the variance grows roughly **linearly** with time.\n"
   ]
  },
  {
   "cell_type": "code",
   "execution_count": null,
   "id": "faa18743",
   "metadata": {},
   "outputs": [],
   "source": [
    "\n",
    "T = 1000\n",
    "num_paths = 5000\n",
    "\n",
    "# Generate many walks once for efficiency\n",
    "walks = np.empty((T+1, num_paths), dtype=int)\n",
    "for k in range(num_paths):\n",
    "    walks[:, k] = random_walk(T, seed=k)\n",
    "\n",
    "# Estimate variance across paths for a grid of times\n",
    "check_ticks = np.linspace(50, T, 10, dtype=int)  # avoid very small times at start\n",
    "vars_est = []\n",
    "for t in check_ticks:\n",
    "    vars_est.append(walks[t].var(ddof=1))\n",
    "\n",
    "plt.figure()\n",
    "plt.plot(check_ticks, vars_est, marker=\"o\")\n",
    "plt.xlabel(\"time tick\")\n",
    "plt.ylabel(\"sample variance across paths\")\n",
    "plt.title(\"Variance grows approximately linearly with time\")\n",
    "plt.show()\n",
    "\n",
    "# Quick and dirty linear fit (least squares) to show linear trend\n",
    "A = np.vstack([check_ticks, np.ones_like(check_ticks)]).T\n",
    "m, b = np.linalg.lstsq(A, np.array(vars_est), rcond=None)[0]\n",
    "print(f\"Linear fit: variance ≈ {m:.3f} * time + {b:.3f}\")\n"
   ]
  },
  {
   "cell_type": "markdown",
   "id": "5e8542fe",
   "metadata": {},
   "source": [
    "\n",
    "## Experiment 4 — Independence of steps (no memory)\n",
    "\n",
    "Build one long walk, extract its steps (±1), and compute the **lag-1 autocorrelation**.  \n",
    "Under independence, this should be close to 0.\n"
   ]
  },
  {
   "cell_type": "code",
   "execution_count": null,
   "id": "feef2998",
   "metadata": {},
   "outputs": [],
   "source": [
    "\n",
    "# Build steps explicitly\n",
    "rng = np.random.default_rng(123)\n",
    "steps = rng.choice([-1, 1], size=100_000)\n",
    "# lag-1 autocorrelation: corr(steps[:-1], steps[1:])\n",
    "x = steps[:-1].astype(float)\n",
    "y = steps[1:].astype(float)\n",
    "corr = np.corrcoef(x, y)[0, 1]\n",
    "print(f\"Lag-1 autocorrelation ≈ {corr:.4f} (should be near 0)\")\n"
   ]
  },
  {
   "cell_type": "markdown",
   "id": "59e19b53",
   "metadata": {},
   "source": [
    "\n",
    "## Concept bridge — From random walk to Brownian motion\n",
    "\n",
    "If you make the time steps **smaller** and the moves **smaller** (scaled like the square‑root of the time step), and you look at the curve in continuous time, the discrete random walk converges to **Brownian motion**.\n",
    "\n",
    "- Brownian motion starts at 0.\n",
    "- Its average position at any fixed time is 0.\n",
    "- Its spread (variance) at time *t* grows proportionally to *t*.\n",
    "- It has **independent** increments: what happens next does not depend on the past.\n",
    "\n",
    "We will use this continuous‑time object as the “noise” building block in finance later.\n"
   ]
  },
  {
   "cell_type": "markdown",
   "id": "27c9f7c8",
   "metadata": {},
   "source": [
    "\n",
    "## Try it yourself\n",
    "\n",
    "1. Change the number of paths and ticks in *Experiment 1*. What happens to the envelope of the trajectories?\n",
    "2. In *Experiment 2*, try different fixed times (100, 700, 1000). How do the mean and variance change?\n",
    "3. In *Experiment 3*, increase `num_paths` to stabilize the variance curve. Does the fitted slope get closer to 1?\n",
    "4. Replace ±1 steps by ±2 (or a mix like −2, −1, +1, +2). How does that change the spread?\n",
    "5. Bonus: compute the **lag-5** autocorrelation of steps in *Experiment 4* and check it is also near 0.\n"
   ]
  }
 ],
 "metadata": {},
 "nbformat": 4,
 "nbformat_minor": 5
}
